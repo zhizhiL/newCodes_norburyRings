{
 "cells": [
  {
   "cell_type": "code",
   "execution_count": 2,
   "metadata": {},
   "outputs": [],
   "source": [
    "import numpy as np\n",
    "import matplotlib.pyplot as plt\n",
    "import pickle"
   ]
  },
  {
   "cell_type": "code",
   "execution_count": null,
   "metadata": {},
   "outputs": [],
   "source": [
    "path = 'influx_random_sims_3D_duo/temp/'\n",
    "data = np.load(path + 'frame_3.npy')\n",
    "master_slave = "
   ]
  },
  {
   "cell_type": "code",
   "execution_count": 4,
   "metadata": {},
   "outputs": [
    {
     "name": "stdout",
     "output_type": "stream",
     "text": [
      "[[((np.float64(0.7003757308227403), np.float64(-0.6624789210850561), np.float64(-1.0776937941843847)), {np.float64(326.0): np.float64(279.0)})], [], [], [], [], [], [], [], [], []]\n"
     ]
    }
   ],
   "source": [
    "# path = 'influx_random_sims_3D_duo/temp/masters_slaves_series.pkl'\n",
    "path = 'influx_random_sims_3D_duo/temp/collision_series.pkl'\n",
    "with open(path, 'rb') as file:\n",
    "    data = pickle.load(file)\n",
    "\n",
    "print(data)"
   ]
  }
 ],
 "metadata": {
  "kernelspec": {
   "display_name": "venv",
   "language": "python",
   "name": "python3"
  },
  "language_info": {
   "codemirror_mode": {
    "name": "ipython",
    "version": 3
   },
   "file_extension": ".py",
   "mimetype": "text/x-python",
   "name": "python",
   "nbconvert_exporter": "python",
   "pygments_lexer": "ipython3",
   "version": "3.11.9"
  }
 },
 "nbformat": 4,
 "nbformat_minor": 2
}
